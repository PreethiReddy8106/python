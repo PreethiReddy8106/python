{
 "cells": [
  {
   "cell_type": "code",
   "execution_count": 7,
   "id": "25170a8b-e217-4bf1-a5dc-2f97827e9aaa",
   "metadata": {},
   "outputs": [
    {
     "name": "stdout",
     "output_type": "stream",
     "text": [
      "preethi reddy,1AY24AI085, O\n"
     ]
    },
    {
     "name": "stdin",
     "output_type": "stream",
     "text": [
      "enter no. of elements to be in list 3\n",
      "enter the element e\n",
      "enter the element d\n",
      "enter the element e\n"
     ]
    },
    {
     "name": "stdout",
     "output_type": "stream",
     "text": [
      "e, d, and e\n"
     ]
    }
   ],
   "source": [
    "print(\"preethi reddy,1AY24AI085, O\")\n",
    "\n",
    "def comma_code(items):\n",
    "    if not items:\n",
    "        return ''\n",
    "    elif len(items) == 1:\n",
    "        return items[0]\n",
    "    else:\n",
    "        return ', '.join(items[:-1]) + ', and ' + items[-1]\n",
    "my_list = [ ]\n",
    "num=int(input('enter no. of elements to be in list'))\n",
    "for i in range (num):\n",
    "    ele=input('enter the element')\n",
    "    my_list.append(ele)\n",
    "formatted = comma_code(my_list)\n",
    "print(formatted)"
   ]
  },
  {
   "cell_type": "code",
   "execution_count": null,
   "id": "c47a0f58-2b5b-4502-b777-c1384bfd151f",
   "metadata": {},
   "outputs": [],
   "source": []
  }
 ],
 "metadata": {
  "kernelspec": {
   "display_name": "Python 3 (ipykernel)",
   "language": "python",
   "name": "python3"
  },
  "language_info": {
   "codemirror_mode": {
    "name": "ipython",
    "version": 3
   },
   "file_extension": ".py",
   "mimetype": "text/x-python",
   "name": "python",
   "nbconvert_exporter": "python",
   "pygments_lexer": "ipython3",
   "version": "3.12.7"
  }
 },
 "nbformat": 4,
 "nbformat_minor": 5
}
