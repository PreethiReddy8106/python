{
 "cells": [
  {
   "cell_type": "code",
   "execution_count": null,
   "id": "06988901-17d9-428e-8ccf-b2933ce33a06",
   "metadata": {},
   "outputs": [
    {
     "name": "stdout",
     "output_type": "stream",
     "text": [
      "Preethi Reddy, USN: 1AY24AI085, Section: O\n",
      "Enter the number of rows:\n"
     ]
    },
    {
     "name": "stdin",
     "output_type": "stream",
     "text": [
      " 3\n"
     ]
    },
    {
     "name": "stdout",
     "output_type": "stream",
     "text": [
      "Enter each row's values separated by commas:\n"
     ]
    }
   ],
   "source": [
    "print(\"Preethi Reddy, USN: 1AY24AI085, Section: O\")\n",
    "\n",
    "def print_table(table):\n",
    "    col_widths = [0] * len(table[0])\n",
    "    for row in table:\n",
    "        for i, item in enumerate(row):\n",
    "            col_widths[i] = max(col_widths[i], len(str(item)))\n",
    "    \n",
    "    # Print rows with padding\n",
    "    for row in table:\n",
    "        for i, item in enumerate(row):\n",
    "            print(str(item).ljust(col_widths[i]), end='  ')\n",
    "        print()\n",
    "\n",
    "def main():\n",
    "    print(\"Enter the number of rows:\")\n",
    "    try:\n",
    "        rows = int(input())\n",
    "        if rows <= 0:\n",
    "            print(\"Number of rows should be positive.\")\n",
    "            return\n",
    "    except ValueError:\n",
    "        print(\"Invalid input.\")\n",
    "        return\n",
    "\n",
    "    table = []\n",
    "    print(\"Enter each row's values separated by commas:\")\n",
    "    for r in range(rows):\n",
    "        row_input = input(f\"Row {r+1}: \").strip()\n",
    "        row = [x.strip() for x in row_input.split(',')]\n",
    "        table.append(row)\n",
    "\n",
    "    print(\"\\nFormatted Table:\")\n",
    "    print_table(table)\n",
    "\n",
    "main()\n"
   ]
  },
  {
   "cell_type": "code",
   "execution_count": null,
   "id": "abbb3eeb-45d6-4e5f-b8cc-e885d3be482d",
   "metadata": {},
   "outputs": [],
   "source": []
  }
 ],
 "metadata": {
  "kernelspec": {
   "display_name": "Python 3 (ipykernel)",
   "language": "python",
   "name": "python3"
  },
  "language_info": {
   "codemirror_mode": {
    "name": "ipython",
    "version": 3
   },
   "file_extension": ".py",
   "mimetype": "text/x-python",
   "name": "python",
   "nbconvert_exporter": "python",
   "pygments_lexer": "ipython3",
   "version": "3.12.7"
  }
 },
 "nbformat": 4,
 "nbformat_minor": 5
}
