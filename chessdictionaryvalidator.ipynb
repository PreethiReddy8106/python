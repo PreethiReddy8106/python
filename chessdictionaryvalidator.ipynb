{
 "cells": [
  {
   "cell_type": "code",
   "execution_count": 11,
   "id": "0c9f31ee-90df-4847-8227-90e768931f11",
   "metadata": {},
   "outputs": [
    {
     "name": "stdout",
     "output_type": "stream",
     "text": [
      "Preethi Reddy, USN: 1AY24AI085, Section: O\n",
      "Enter chess pieces and their positions (type 'done' when finished):\n",
      "Pieces: K,Q,R,B,N,P (white uppercase), k,q,r,b,n,p (black lowercase), or leave blank for empty.\n",
      "Positions: a1 to h8\n"
     ]
    },
    {
     "name": "stdin",
     "output_type": "stream",
     "text": [
      "Enter position (or 'done' to finish):  a1\n",
      "Enter piece at a1 (empty for none):  R\n",
      "Enter position (or 'done' to finish):  h8\n",
      "Enter piece at h8 (empty for none):  k\n",
      "Enter position (or 'done' to finish):  done\n"
     ]
    },
    {
     "name": "stdout",
     "output_type": "stream",
     "text": [
      "\n",
      "Your chess dictionary:\n",
      "{'a1': 'R', 'h8': 'k'}\n",
      "Chess dictionary is valid!\n"
     ]
    }
   ],
   "source": [
    "print(\"Preethi Reddy, USN: 1AY24AI085, Section: O\")\n",
    "\n",
    "def is_valid_position(pos):\n",
    "    return len(pos) == 2 and pos[0] in \"abcdefgh\" and pos[1] in \"12345678\"\n",
    "\n",
    "def is_valid_piece(piece):\n",
    "    valid_pieces = ['K', 'Q', 'R', 'B', 'N', 'P', 'k', 'q', 'r', 'b', 'n', 'p', '']\n",
    "    return piece in valid_pieces\n",
    "\n",
    "def main():\n",
    "    chess_dict = {}\n",
    "    print(\"Enter chess pieces and their positions (type 'done' when finished):\")\n",
    "    print(\"Pieces: K,Q,R,B,N,P (white uppercase), k,q,r,b,n,p (black lowercase), or leave blank for empty.\")\n",
    "    print(\"Positions: a1 to h8\")\n",
    "    \n",
    "    while True:\n",
    "        pos = input(\"Enter position (or 'done' to finish): \").strip().lower()\n",
    "        if pos == 'done':\n",
    "            break\n",
    "        if not is_valid_position(pos):\n",
    "            print(\"Invalid position! Try again.\")\n",
    "            continue\n",
    "        \n",
    "        piece = input(\"Enter piece at \" + pos + \" (empty for none): \").strip()\n",
    "        if not is_valid_piece(piece):\n",
    "            print(\"Invalid piece! Try again.\")\n",
    "            continue\n",
    "        \n",
    "        chess_dict[pos] = piece\n",
    "    \n",
    "    print(\"\\nYour chess dictionary:\")\n",
    "    print(chess_dict)\n",
    "    print(\"Chess dictionary is valid!\")\n",
    "\n",
    "if __name__ == \"__main__\":\n",
    "    main()\n"
   ]
  },
  {
   "cell_type": "code",
   "execution_count": null,
   "id": "4e98be15-e634-4043-9052-47e8e689a158",
   "metadata": {},
   "outputs": [],
   "source": []
  }
 ],
 "metadata": {
  "kernelspec": {
   "display_name": "Python 3 (ipykernel)",
   "language": "python",
   "name": "python3"
  },
  "language_info": {
   "codemirror_mode": {
    "name": "ipython",
    "version": 3
   },
   "file_extension": ".py",
   "mimetype": "text/x-python",
   "name": "python",
   "nbconvert_exporter": "python",
   "pygments_lexer": "ipython3",
   "version": "3.12.7"
  }
 },
 "nbformat": 4,
 "nbformat_minor": 5
}
