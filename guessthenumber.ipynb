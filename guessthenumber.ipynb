{
 "cells": [
  {
   "cell_type": "code",
   "execution_count": 2,
   "id": "f703b2a7-b294-4b44-95d6-c08b38c75fbc",
   "metadata": {},
   "outputs": [
    {
     "name": "stdout",
     "output_type": "stream",
     "text": [
      "Name:preethi reddy, USN:1AY24AI085, Section:O\n",
      "I'm thinking of a number between 1 and 20.\n"
     ]
    },
    {
     "name": "stdin",
     "output_type": "stream",
     "text": [
      "Take a guess:  5\n"
     ]
    },
    {
     "name": "stdout",
     "output_type": "stream",
     "text": [
      "Your guess is too low.\n"
     ]
    },
    {
     "name": "stdin",
     "output_type": "stream",
     "text": [
      "Take a guess:  11\n"
     ]
    },
    {
     "name": "stdout",
     "output_type": "stream",
     "text": [
      "Your guess is too low.\n"
     ]
    },
    {
     "name": "stdin",
     "output_type": "stream",
     "text": [
      "Take a guess:  17\n"
     ]
    },
    {
     "name": "stdout",
     "output_type": "stream",
     "text": [
      "Your guess is too low.\n"
     ]
    },
    {
     "name": "stdin",
     "output_type": "stream",
     "text": [
      "Take a guess:  19\n"
     ]
    },
    {
     "name": "stdout",
     "output_type": "stream",
     "text": [
      "Your guess is too low.\n"
     ]
    },
    {
     "name": "stdin",
     "output_type": "stream",
     "text": [
      "Take a guess:  20\n"
     ]
    },
    {
     "name": "stdout",
     "output_type": "stream",
     "text": [
      "Good job! You guessed my number in 5 guesses!\n"
     ]
    }
   ],
   "source": [
    "print(\"Name:preethi reddy, USN:1AY24AI085, Section:O\")\n",
    "\n",
    "import random\n",
    "\n",
    "secretNumber = random.randint(1, 20) \n",
    "print(\"I'm thinking of a number between 1 and 20.\")\n",
    "\n",
    "for guessesTaken in range(1, 7): \n",
    "    guess = int(input(\"Take a guess: \"))\n",
    "    if guess < secretNumber: \n",
    "        print(\"Your guess is too low.\")\n",
    "    elif guess > secretNumber:\n",
    "        print(\"Your guess is too high.\")\n",
    "    else:\n",
    "        break \n",
    "if guess == secretNumber:\n",
    "    print(f\"Good job! You guessed my number in {guessesTaken} guesses!\") \n",
    "else:\n",
    "    print(f\"Nope. The number I was thinking of was {secretNumber}.\")"
   ]
  },
  {
   "cell_type": "code",
   "execution_count": null,
   "id": "c76f0b30-7ce3-42e4-b72a-98bc1c9c34fd",
   "metadata": {},
   "outputs": [],
   "source": []
  }
 ],
 "metadata": {
  "kernelspec": {
   "display_name": "Python 3 (ipykernel)",
   "language": "python",
   "name": "python3"
  },
  "language_info": {
   "codemirror_mode": {
    "name": "ipython",
    "version": 3
   },
   "file_extension": ".py",
   "mimetype": "text/x-python",
   "name": "python",
   "nbconvert_exporter": "python",
   "pygments_lexer": "ipython3",
   "version": "3.12.7"
  }
 },
 "nbformat": 4,
 "nbformat_minor": 5
}
