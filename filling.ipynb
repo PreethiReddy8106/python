{
 "cells": [
  {
   "cell_type": "code",
   "execution_count": null,
   "id": "47d82798-09a5-447f-8bb5-ccca24a48b0c",
   "metadata": {},
   "outputs": [
    {
     "name": "stdout",
     "output_type": "stream",
     "text": [
      "preethi reddy,USN:1AY24AI085,section'O'\n",
      "Choose an operation:\n",
      "1. Close gaps in numbered files\n",
      "2. Insert a gap at a specific position\n"
     ]
    },
    {
     "name": "stdin",
     "output_type": "stream",
     "text": [
      "Enter 1 or 2:  1\n",
      "Enter folder path:  C:\\Users\\preethi reddy\\OneDrive\\Documents\\programfiles1\n"
     ]
    }
   ],
   "source": [
    "import os\n",
    "import re\n",
    "print(\"preethi reddy,USN:1AY24AI085,section'O'\")\n",
    "def get_numbered_files(folder, prefix, extension):\n",
    "    pattern = re.compile(rf'^{re.escape(prefix)}(\\d+){re.escape(extension)}$')\n",
    "    numbered_files = []\n",
    "    \n",
    "    for filename in os.listdir(folder):\n",
    "        match = pattern.match(filename)\n",
    "        if match:\n",
    "            num = int(match.group(1))\n",
    "            numbered_files.append((num, filename))\n",
    "    return sorted(numbered_files)\n",
    "def close_gaps(folder, prefix, extension):\n",
    "    files = get_numbered_files(folder, prefix, extension)\n",
    "    if not files:\n",
    "        print(\"No matching files found.\")\n",
    "        return\n",
    "    next_expected = 1\n",
    "    for actual_num, filename in files:\n",
    "        if actual_num != next_expected:\n",
    "            new_name = f\"{prefix}{str(next_expected).zfill(3)}{extension}\"\n",
    "            print(f\"Renaming {filename} → {new_name}\")\n",
    "            os.rename(os.path.join(folder, filename), os.path.join(folder, new_name))\n",
    "        next_expected += 1\n",
    "    print(\"Gaps closed.\")\n",
    "def insert_gap(folder, prefix, extension, insert_position):\n",
    "    files = get_numbered_files(folder, prefix, extension)\n",
    "    if not files:\n",
    "        print(\"No matching files found.\")\n",
    "        return\n",
    "    for num, filename in sorted(files, reverse=True):\n",
    "        if num >= insert_position:\n",
    "            new_num = num + 1\n",
    "            new_name = f\"{prefix}{str(new_num).zfill(3)}{extension}\"\n",
    "            print(f\"Renaming {filename} → {new_name}\")\n",
    "            os.rename(os.path.join(folder, filename), os.path.join(folder, new_name))\n",
    "    print(f\"Gap inserted at position {insert_position}.\")\n",
    "def main():\n",
    "    print(\"Choose an operation:\")\n",
    "    print(\"1. Close gaps in numbered files\")\n",
    "    print(\"2. Insert a gap at a specific position\")\n",
    "    choice = input(\"Enter 1 or 2: \").strip()\n",
    "    folder = input(\"Enter folder path: \").strip()\n",
    "    prefix = input(\"Enter file prefix (e.g., spam): \").strip()\n",
    "    extension = input(\"Enter file extension (e.g., .txt): \").strip()\n",
    "    if choice == '1':\n",
    "        close_gaps(folder, prefix, extension)\n",
    "    elif choice == '2':\n",
    "        pos = int(input(\"Enter position number to insert gap at (e.g., 2 for spam002): \"))\n",
    "        insert_gap(folder, prefix, extension, pos)\n",
    "    else:\n",
    "        print(\"Invalid choice.\")\n",
    "\n",
    "main()\n"
   ]
  },
  {
   "cell_type": "code",
   "execution_count": null,
   "id": "fec9ea57-f131-481c-b6f6-79eb1c759841",
   "metadata": {},
   "outputs": [],
   "source": []
  }
 ],
 "metadata": {
  "kernelspec": {
   "display_name": "Python 3 (ipykernel)",
   "language": "python",
   "name": "python3"
  },
  "language_info": {
   "codemirror_mode": {
    "name": "ipython",
    "version": 3
   },
   "file_extension": ".py",
   "mimetype": "text/x-python",
   "name": "python",
   "nbconvert_exporter": "python",
   "pygments_lexer": "ipython3",
   "version": "3.12.7"
  }
 },
 "nbformat": 4,
 "nbformat_minor": 5
}
