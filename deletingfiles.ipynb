{
 "cells": [
  {
   "cell_type": "code",
   "execution_count": 20,
   "id": "98c83f24-af73-4143-acc5-275517ff9809",
   "metadata": {},
   "outputs": [
    {
     "name": "stdout",
     "output_type": "stream",
     "text": [
      "Preethi Reddy, USN:1AY24AI085, Section O\n"
     ]
    },
    {
     "name": "stdin",
     "output_type": "stream",
     "text": [
      "Enter the folder path to search for large files:  C:\\Users\\preethi reddy\\OneDrive\\Documents\\programfiles1\n"
     ]
    },
    {
     "name": "stdout",
     "output_type": "stream",
     "text": [
      "\n",
      "Searching for files larger than 100MB...\n",
      "\n",
      "no file is greater than 100MB\n"
     ]
    }
   ],
   "source": [
    "\n",
    "# Program to find files larger than 100MB in a folder tree\n",
    "\n",
    "import os\n",
    "print(\"Preethi Reddy, USN:1AY24AI085, Section O\")\n",
    "def find_large_files(folder_path, size_threshold_mb=100):\n",
    "    size_threshold_bytes = size_threshold_mb * 1024 * 1024  \n",
    "    found=False\n",
    "\n",
    "    print(f\"\\nSearching for files larger than {size_threshold_mb}MB...\\n\")\n",
    "\n",
    "    for foldername, subfolders, filenames in os.walk(folder_path):\n",
    "        for filename in filenames:\n",
    "            try:\n",
    "                file_path = os.path.join(foldername, filename)\n",
    "                file_size = os.path.getsize(file_path)\n",
    "\n",
    "                if file_size > size_threshold_bytes:\n",
    "                    size_in_mb = file_size / (1024 * 1024)\n",
    "                    print(f\"{file_path} → {size_in_mb:.2f} MB\")\n",
    "                \n",
    "               \n",
    "            except Exception as e:\n",
    "                print(f\"Could not access {filename}: {e}\")\n",
    "    if not found:\n",
    "        print(\"no file is greater than 100MB\")\n",
    "     \n",
    "\n",
    "\n",
    "\n",
    "\n",
    "folder = input(\"Enter the folder path to search for large files: \").strip()\n",
    "find_large_files(folder)\n"
   ]
  }
 ],
 "metadata": {
  "kernelspec": {
   "display_name": "Python 3 (ipykernel)",
   "language": "python",
   "name": "python3"
  },
  "language_info": {
   "codemirror_mode": {
    "name": "ipython",
    "version": 3
   },
   "file_extension": ".py",
   "mimetype": "text/x-python",
   "name": "python",
   "nbconvert_exporter": "python",
   "pygments_lexer": "ipython3",
   "version": "3.12.7"
  }
 },
 "nbformat": 4,
 "nbformat_minor": 5
}
