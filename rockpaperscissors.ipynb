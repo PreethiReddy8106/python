{
 "cells": [
  {
   "cell_type": "code",
   "execution_count": 9,
   "id": "30a44507-8966-4f2a-bc17-b7441ea368c4",
   "metadata": {},
   "outputs": [
    {
     "name": "stdout",
     "output_type": "stream",
     "text": [
      "Welcome to Rock, Paper, Scissors!\n"
     ]
    },
    {
     "name": "stdin",
     "output_type": "stream",
     "text": [
      "Enter your choice (rock, paper, or scissors):  paper\n"
     ]
    },
    {
     "name": "stdout",
     "output_type": "stream",
     "text": [
      "Computer chose: scissors\n",
      "Computer wins!\n"
     ]
    }
   ],
   "source": [
    "import random\n",
    "def determine_winner(player_choice, computer_choice):\n",
    "    if player_choice == computer_choice:\n",
    "        return \"It's a tie!\"\n",
    "    elif (player_choice == 'rock' and computer_choice == 'scissors') or (player_choice == 'scissors' and computer_choice == 'paper') or (player_choice == 'paper' and computer_choice == 'rock'):\n",
    "        return \"You win!\"\n",
    "    else:\n",
    "        return \"Computer wins!\"\n",
    "choices = ['rock', 'paper', 'scissors']\n",
    "print(\"Welcome to Rock, Paper, Scissors!\")\n",
    "player_choice = input(\"Enter your choice (rock, paper, or scissors): \").lower()\n",
    "if player_choice not in choices:\n",
    "    print(\"Invalid choice. Please choose rock, paper, or scissors.\")\n",
    "else:\n",
    "    computer_choice = random.choice(choices)\n",
    "    print(f\"Computer chose: {computer_choice}\")\n",
    "    result = determine_winner(player_choice, computer_choice)\n",
    "    print(result)\n"
   ]
  }
 ],
 "metadata": {
  "kernelspec": {
   "display_name": "Python 3 (ipykernel)",
   "language": "python",
   "name": "python3"
  },
  "language_info": {
   "codemirror_mode": {
    "name": "ipython",
    "version": 3
   },
   "file_extension": ".py",
   "mimetype": "text/x-python",
   "name": "python",
   "nbconvert_exporter": "python",
   "pygments_lexer": "ipython3",
   "version": "3.12.7"
  }
 },
 "nbformat": 4,
 "nbformat_minor": 5
}
