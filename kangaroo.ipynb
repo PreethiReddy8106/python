{
 "cells": [
  {
   "cell_type": "code",
   "execution_count": 2,
   "id": "e5d37cd0-28b6-49c8-97a1-2a95d271a1f5",
   "metadata": {},
   "outputs": [
    {
     "name": "stdout",
     "output_type": "stream",
     "text": [
      "Kanga: Kangaroo with pouch contents: [wallet, keys, Kangaroo with pouch contents: []]\n",
      "Roo: Kangaroo with pouch contents: []\n"
     ]
    }
   ],
   "source": [
    "class Kangaroo:\n",
    "    def __init__(self):\n",
    "        self.pouch_contents = []\n",
    "\n",
    "    def put_in_pouch(self, item):\n",
    "        self.pouch_contents.append(item)\n",
    "\n",
    "    def __str__(self):\n",
    "        contents = ', '.join(str(item) for item in self.pouch_contents)\n",
    "        return f'Kangaroo with pouch contents: [{contents}]'\n",
    "kanga = Kangaroo()\n",
    "roo = Kangaroo()\n",
    "\n",
    "kanga.put_in_pouch('wallet')\n",
    "kanga.put_in_pouch('keys')\n",
    "kanga.put_in_pouch(roo)  # Add the roo object itself to kanga's pouch\n",
    "\n",
    "print(\"Kanga:\", kanga)\n",
    "print(\"Roo:\", roo)\n",
    "\n"
   ]
  },
  {
   "cell_type": "code",
   "execution_count": null,
   "id": "77891f6b-c15f-4425-8575-3eb1cab1c243",
   "metadata": {},
   "outputs": [],
   "source": []
  }
 ],
 "metadata": {
  "kernelspec": {
   "display_name": "Python 3 (ipykernel)",
   "language": "python",
   "name": "python3"
  },
  "language_info": {
   "codemirror_mode": {
    "name": "ipython",
    "version": 3
   },
   "file_extension": ".py",
   "mimetype": "text/x-python",
   "name": "python",
   "nbconvert_exporter": "python",
   "pygments_lexer": "ipython3",
   "version": "3.12.7"
  }
 },
 "nbformat": 4,
 "nbformat_minor": 5
}
