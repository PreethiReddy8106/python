{
 "cells": [
  {
   "cell_type": "code",
   "execution_count": 22,
   "id": "0a08e7a6-0cb2-47d8-8924-7e821112aba6",
   "metadata": {},
   "outputs": [
    {
     "name": "stdout",
     "output_type": "stream",
     "text": [
      "Guess the coin toss! Enter heads or tails:\n"
     ]
    },
    {
     "name": "stdin",
     "output_type": "stream",
     "text": [
      " heads\n"
     ]
    },
    {
     "name": "stdout",
     "output_type": "stream",
     "text": [
      "You got it!\n"
     ]
    }
   ],
   "source": [
    "import random\n",
    "guess = ''\n",
    "while guess not in ('heads', 'tails'):\n",
    "    print('Guess the coin toss! Enter heads or tails:')\n",
    "    guess = input().lower()\n",
    "toss = random.randint(0, 1)  \n",
    "toss_result = 'heads' if toss == 1 else 'tails'\n",
    "if guess == toss_result:\n",
    "    print('You got it!')\n",
    "else:\n",
    "    print('Nope! Guess again!')\n",
    "    guess = ''\n",
    "    while guess not in ('heads', 'tails'):\n",
    "        guess = input().lower()\n",
    "    if guess == toss_result:\n",
    "        print('You got it!')\n",
    "    else:\n",
    "        print('Nope. You are really bad at this game.')\n"
   ]
  },
  {
   "cell_type": "code",
   "execution_count": null,
   "id": "c0432696-26b5-4dab-80d9-6d4d179daebe",
   "metadata": {},
   "outputs": [],
   "source": []
  }
 ],
 "metadata": {
  "kernelspec": {
   "display_name": "Python 3 (ipykernel)",
   "language": "python",
   "name": "python3"
  },
  "language_info": {
   "codemirror_mode": {
    "name": "ipython",
    "version": 3
   },
   "file_extension": ".py",
   "mimetype": "text/x-python",
   "name": "python",
   "nbconvert_exporter": "python",
   "pygments_lexer": "ipython3",
   "version": "3.12.7"
  }
 },
 "nbformat": 4,
 "nbformat_minor": 5
}
