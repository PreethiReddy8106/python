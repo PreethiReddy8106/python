{
 "cells": [
  {
   "cell_type": "code",
   "execution_count": 3,
   "id": "582f2ee6-2a8b-4a5c-bff2-8f269e0c6d6d",
   "metadata": {},
   "outputs": [
    {
     "name": "stdout",
     "output_type": "stream",
     "text": [
      " Preethi Reddy, USN:1AY24AI085, Section O\n"
     ]
    },
    {
     "name": "stdin",
     "output_type": "stream",
     "text": [
      "Enter the path to your Mad Libs text file:  C:/Users/preethi reddy/OneDrive/Documents/madlib.txt\n",
      "Enter an adjective:  silly\n",
      "Enter a noun:  chandelier\n",
      "Enter a verb:  screamed\n",
      "Enter a noun:  pickup truck\n"
     ]
    },
    {
     "name": "stdout",
     "output_type": "stream",
     "text": [
      "\n",
      "--- Your Mad Libs Result ---\n",
      "\n",
      "The silly panda walked to the chandelier and then screamed. A nearby pickup truck was\n",
      "unaffected by these events.\n",
      "\n",
      "Result saved to 'mad_libs_result.txt'\n"
     ]
    }
   ],
   "source": [
    "#\n",
    "# Mad Libs Program\n",
    "\n",
    "import re\n",
    "print(\" Preethi Reddy, USN:1AY24AI085, Section O\")\n",
    "\n",
    "def mad_libs(file_path):\n",
    "    try:\n",
    "        with open(file_path, 'r') as file:\n",
    "            content = file.read()\n",
    "\n",
    "    \n",
    "        placeholders = re.findall(r'\\b(ADJECTIVE|NOUN|VERB|ADVERB)\\b', content)\n",
    "\n",
    "    \n",
    "        replacements = []\n",
    "\n",
    "        for word in placeholders:\n",
    "            article = 'an' if word[0] in 'AEIOU' else 'a'\n",
    "            user_input = input(f\"Enter {article.lower()} {word.lower()}: \")\n",
    "            replacements.append(user_input)\n",
    "\n",
    "    \n",
    "        def replace_match(match):\n",
    "            return replacements.pop(0)\n",
    "\n",
    "        final_text = re.sub(r'\\b(ADJECTIVE|NOUN|VERB|ADVERB)\\b', replace_match, content)\n",
    "\n",
    "        print(\"\\n--- Your Mad Libs Result ---\\n\")\n",
    "        print(final_text)\n",
    "\n",
    "        \n",
    "        output_file = 'mad_libs_result.txt'\n",
    "        with open(output_file, 'w') as file:\n",
    "            file.write(final_text)\n",
    "        print(f\"\\nResult saved to '{output_file}'\")\n",
    "\n",
    "    except FileNotFoundError:\n",
    "        print(\"Error: The file was not found. Make sure the path is correct.\")\n",
    "\n",
    "\n",
    "if __name__ == \"__main__\":\n",
    "    input_file = input(\"Enter the path to your Mad Libs text file: \")\n",
    "    mad_libs(input_file)\n"
   ]
  },
  {
   "cell_type": "code",
   "execution_count": null,
   "id": "90ab7dbe-f0b0-42b7-b223-a765c8457f2d",
   "metadata": {},
   "outputs": [],
   "source": []
  }
 ],
 "metadata": {
  "kernelspec": {
   "display_name": "Python 3 (ipykernel)",
   "language": "python",
   "name": "python3"
  },
  "language_info": {
   "codemirror_mode": {
    "name": "ipython",
    "version": 3
   },
   "file_extension": ".py",
   "mimetype": "text/x-python",
   "name": "python",
   "nbconvert_exporter": "python",
   "pygments_lexer": "ipython3",
   "version": "3.12.7"
  }
 },
 "nbformat": 4,
 "nbformat_minor": 5
}
