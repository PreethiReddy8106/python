{
 "cells": [
  {
   "cell_type": "code",
   "execution_count": 1,
   "id": "bd9ed9b5-daa2-4d0b-9394-227a12696347",
   "metadata": {},
   "outputs": [
    {
     "name": "stdout",
     "output_type": "stream",
     "text": [
      "preethi reddy,USN:1AY24AI085,section'O'\n",
      "Today's date: 2025-06-23\n",
      "Day of the week: Monday\n"
     ]
    }
   ],
   "source": [
    "from datetime import datetime\n",
    "\n",
    "print(\"preethi reddy,USN:1AY24AI085,section'O'\")\n",
    "today = datetime.now()\n",
    "\n",
    "\n",
    "print(\"Today's date:\", today.strftime('%Y-%m-%d'))\n",
    "print(\"Day of the week:\", today.strftime('%A'))\n"
   ]
  },
  {
   "cell_type": "code",
   "execution_count": 2,
   "id": "164c0544-4202-4369-9bc6-012a81b1b17f",
   "metadata": {},
   "outputs": [
    {
     "name": "stdin",
     "output_type": "stream",
     "text": [
      "Enter your birthday (YYYY-MM-DD):  2007-01-11\n"
     ]
    },
    {
     "name": "stdout",
     "output_type": "stream",
     "text": [
      "You are 18 years old.\n",
      "Time until next birthday:\n",
      "201 days, 9 hours, 44 minutes, 0 seconds.\n"
     ]
    }
   ],
   "source": [
    "from datetime import datetime, timedelta\n",
    "\n",
    "def birthday_info():\n",
    "    \n",
    "    bday_str = input(\"Enter your birthday (YYYY-MM-DD): \")\n",
    "    bday = datetime.strptime(bday_str, \"%Y-%m-%d\")\n",
    "    today = datetime.now()\n",
    "\n",
    "\n",
    "    age = today.year - bday.year\n",
    "    if (today.month, today.day) < (bday.month, bday.day):\n",
    "        age -= 1\n",
    "\n",
    "    \n",
    "    next_bday = bday.replace(year=today.year)\n",
    "    if next_bday < today:\n",
    "        next_bday = next_bday.replace(year=today.year + 1)\n",
    "\n",
    "    time_left = next_bday - today\n",
    "\n",
    "    print(f\"You are {age} years old.\")\n",
    "    print(\"Time until next birthday:\")\n",
    "    print(f\"{time_left.days} days, {time_left.seconds//3600} hours, \"\n",
    "          f\"{(time_left.seconds//60)%60} minutes, {time_left.seconds%60} seconds.\")\n",
    "\n",
    "birthday_info()\n"
   ]
  },
  {
   "cell_type": "code",
   "execution_count": 7,
   "id": "f8554eec-dc70-4bba-8689-e8591cc7b3f4",
   "metadata": {},
   "outputs": [
    {
     "name": "stdin",
     "output_type": "stream",
     "text": [
      "Enter your birthday (YYYY-MM-DD):  2007-01-11\n",
      "Enter your birthday (YYYY-MM-DD):  2010-12-21\n"
     ]
    },
    {
     "name": "stdout",
     "output_type": "stream",
     "text": [
      "Double Day is: 2014-11-30\n"
     ]
    }
   ],
   "source": [
    "from datetime import datetime, timedelta\n",
    "\n",
    "def double_day(birth1, birth2):\n",
    "    if birth1 > birth2:\n",
    "        birth1, birth2 = birth2, birth1 \n",
    "\n",
    "    diff = birth2 - birth1\n",
    "    double_day = birth2 + diff\n",
    "    return double_day\n",
    "def get_date(prompt):\n",
    "    while True:\n",
    "        try:\n",
    "            return datetime.strptime(input(prompt), \"%Y-%m-%d\")\n",
    "        except ValueError:\n",
    "            print(\"Invalid date format. Please use YYYY-MM-DD.\")\n",
    "\n",
    "b1 =get_date(\"Enter your birthday (YYYY-MM-DD): \") \n",
    "b2 = get_date(\"Enter your birthday (YYYY-MM-DD): \")\n",
    "print(\"Double Day is:\", double_day(b1, b2).strftime(\"%Y-%m-%d\"))\n"
   ]
  },
  {
   "cell_type": "code",
   "execution_count": 8,
   "id": "d97682b8-f100-4fbf-a579-3e7d3edbb080",
   "metadata": {},
   "outputs": [
    {
     "name": "stdout",
     "output_type": "stream",
     "text": [
      "Day when one is 3 times older: 2007-07-03\n"
     ]
    }
   ],
   "source": [
    "def n_times_day(birth1, birth2, n):\n",
    "    if birth1 > birth2:\n",
    "        birth1, birth2 = birth2, birth1\n",
    "        n = 1 / n  \n",
    "\n",
    "    diff = birth2 - birth1\n",
    "    n_day = birth2 + diff / (n - 1)\n",
    "    return n_day\n",
    "\n",
    "b1 = datetime.strptime(\"2000-01-01\", \"%Y-%m-%d\")\n",
    "b2 = datetime.strptime(\"2005-01-01\", \"%Y-%m-%d\")\n",
    "n = 3\n",
    "print(f\"Day when one is {n} times older:\", n_times_day(b1, b2, n).strftime(\"%Y-%m-%d\"))\n"
   ]
  },
  {
   "cell_type": "code",
   "execution_count": null,
   "id": "90115077-1599-48c9-9849-eb3d8281ecb9",
   "metadata": {},
   "outputs": [],
   "source": []
  }
 ],
 "metadata": {
  "kernelspec": {
   "display_name": "Python 3 (ipykernel)",
   "language": "python",
   "name": "python3"
  },
  "language_info": {
   "codemirror_mode": {
    "name": "ipython",
    "version": 3
   },
   "file_extension": ".py",
   "mimetype": "text/x-python",
   "name": "python",
   "nbconvert_exporter": "python",
   "pygments_lexer": "ipython3",
   "version": "3.12.7"
  }
 },
 "nbformat": 4,
 "nbformat_minor": 5
}
