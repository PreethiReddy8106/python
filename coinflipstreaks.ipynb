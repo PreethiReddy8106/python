{
 "cells": [
  {
   "cell_type": "code",
   "execution_count": 15,
   "id": "0815435c-728c-4562-97ec-42b1125a5dbd",
   "metadata": {},
   "outputs": [
    {
     "name": "stdout",
     "output_type": "stream",
     "text": [
      "preethi reddy,1AY24AI085, 'O'\n"
     ]
    },
    {
     "name": "stdin",
     "output_type": "stream",
     "text": [
      "Enter the number of coin flips:  10\n"
     ]
    },
    {
     "name": "stdout",
     "output_type": "stream",
     "text": [
      "Coin flips: Heads,Heads,Tails,Heads,Heads,Tails,Heads,Heads,Tails,Tails\n",
      "Longest streak: 2\n"
     ]
    }
   ],
   "source": [
    "import random\n",
    "\n",
    "print(\"preethi reddy,1AY24AI085, 'O'\")\n",
    "\n",
    "def flip_coin():\n",
    "     if random.randint(0, 1) == 0:\n",
    "         return 'Heads' \n",
    "     else: \n",
    "         return 'Tails'\n",
    "\n",
    "def count_streaks(flips):\n",
    "    longest_streak = current_streak = 1\n",
    "    for i in range(1, len(flips)):\n",
    "        if flips[i] == flips[i - 1]:  \n",
    "            current_streak += 1\n",
    "        else: \n",
    "            current_streak = 1\n",
    "       \n",
    "    longest_streak = current_streak\n",
    "    return longest_streak\n",
    "num_flips = int(input(\"Enter the number of coin flips: \"))\n",
    "flips = [flip_coin() for _ in range(num_flips)]\n",
    "longest_streak = count_streaks(flips)\n",
    "print(\"Coin flips:\",\",\".join(flips))\n",
    "print(f\"Longest streak: {longest_streak}\")\n"
   ]
  },
  {
   "cell_type": "code",
   "execution_count": null,
   "id": "43ef0c42-2f50-40dc-bd93-0a231e6d5e50",
   "metadata": {},
   "outputs": [],
   "source": []
  }
 ],
 "metadata": {
  "kernelspec": {
   "display_name": "Python 3 (ipykernel)",
   "language": "python",
   "name": "python3"
  },
  "language_info": {
   "codemirror_mode": {
    "name": "ipython",
    "version": 3
   },
   "file_extension": ".py",
   "mimetype": "text/x-python",
   "name": "python",
   "nbconvert_exporter": "python",
   "pygments_lexer": "ipython3",
   "version": "3.12.7"
  }
 },
 "nbformat": 4,
 "nbformat_minor": 5
}
