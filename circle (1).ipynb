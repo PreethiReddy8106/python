{
 "cells": [
  {
   "cell_type": "code",
   "execution_count": 1,
   "id": "f4f8d240-c464-4881-9a00-e778309be909",
   "metadata": {},
   "outputs": [
    {
     "name": "stdout",
     "output_type": "stream",
     "text": [
      "preethi reddy,USN:1AY24AI085,section'O'\n",
      "rect1 is inside circle: True\n",
      "rect2 is inside circle: True\n",
      "rect2 overlaps circle: True\n",
      "rect3 overlaps circle: False\n"
     ]
    }
   ],
   "source": [
    "import math\n",
    "print(\"preethi reddy,USN:1AY24AI085,section'O'\")\n",
    "class Point:\n",
    "    def __init__(self, x, y):\n",
    "        self.x = x\n",
    "        self.y = y\n",
    "class Rectangle:\n",
    "    def __init__(self, corner, width, height):\n",
    "        self.corner = corner\n",
    "        self.width = width\n",
    "        self.height = height\n",
    "class Circle:\n",
    "    def __init__(self, center, radius):\n",
    "        self.center = center  # Point\n",
    "        self.radius = radius\n",
    "def distance(p1, p2):\n",
    "    return math.hypot(p1.x - p2.x, p1.y - p2.y)\n",
    "\n",
    "def point_in_circle(circle, point):\n",
    "    return distance(circle.center, point) <= circle.radius\n",
    "def get_rect_corners(rect):\n",
    "    x, y = rect.corner.x, rect.corner.y\n",
    "    return [\n",
    "        Point(x, y), \n",
    "        Point(x + rect.width, y), \n",
    "        Point(x, y + rect.height),\n",
    "        Point(x + rect.width, y + rect.height) \n",
    "    ]\n",
    "def rect_in_circle(circle, rect):\n",
    "    return all(point_in_circle(circle, corner) for corner in get_rect_corners(rect))\n",
    "def rect_circle_overlap(circle, rect):\n",
    "    return any(point_in_circle(circle, corner) for corner in get_rect_corners(rect))\n",
    "circle = Circle(Point(150, 100), 75)\n",
    "rect1 = Rectangle(Point(120, 80), 40, 30)  \n",
    "rect2 = Rectangle(Point(100, 50), 100, 100) \n",
    "rect3 = Rectangle(Point(300, 300), 20, 20)  \n",
    "print(\"rect1 is inside circle:\", rect_in_circle(circle, rect1))          \n",
    "print(\"rect2 is inside circle:\", rect_in_circle(circle, rect2))            \n",
    "print(\"rect2 overlaps circle:\", rect_circle_overlap(circle, rect2))        \n",
    "print(\"rect3 overlaps circle:\", rect_circle_overlap(circle, rect3))        \n"
   ]
  }
 ],
 "metadata": {
  "kernelspec": {
   "display_name": "Python 3 (ipykernel)",
   "language": "python",
   "name": "python3"
  },
  "language_info": {
   "codemirror_mode": {
    "name": "ipython",
    "version": 3
   },
   "file_extension": ".py",
   "mimetype": "text/x-python",
   "name": "python",
   "nbconvert_exporter": "python",
   "pygments_lexer": "ipython3",
   "version": "3.12.7"
  }
 },
 "nbformat": 4,
 "nbformat_minor": 5
}
