{
 "cells": [
  {
   "cell_type": "code",
   "execution_count": null,
   "id": "48d42607-a202-4cba-8d9b-707721ffaa72",
   "metadata": {},
   "outputs": [],
   "source": [
    "def collatz_sequence(n):\n",
    "    while n != 1:\n",
    "        print(n, end=\"  \")\n",
    "        if n % 2 == 0:\n",
    "            n //= 2  # Divide by 2 if even\n",
    "        else:\n",
    "            n = 3 * n + 1  # Multiply by 3 and add 1 if odd\n",
    "    print(1)  # The sequence always ends at 1\n",
    "\n",
    "# Get user input\n",
    "num = int(input(\"Enter a positive integer: \"))\n",
    "collatz_sequence(num)"
   ]
  }
 ],
 "metadata": {
  "kernelspec": {
   "display_name": "Python 3 (ipykernel)",
   "language": "python",
   "name": "python3"
  },
  "language_info": {
   "codemirror_mode": {
    "name": "ipython",
    "version": 3
   },
   "file_extension": ".py",
   "mimetype": "text/x-python",
   "name": "python",
   "nbconvert_exporter": "python",
   "pygments_lexer": "ipython3",
   "version": "3.12.7"
  }
 },
 "nbformat": 4,
 "nbformat_minor": 5
}
