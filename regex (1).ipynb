{
 "cells": [
  {
   "cell_type": "code",
   "execution_count": 19,
   "id": "925983ca-7112-4bc0-84ca-fc735e9b1379",
   "metadata": {},
   "outputs": [
    {
     "name": "stdout",
     "output_type": "stream",
     "text": [
      "Preethi Reddy, USN:1AY24AI085, Section O\n"
     ]
    },
    {
     "name": "stdin",
     "output_type": "stream",
     "text": [
      "Enter the regular expression to search for:  zebra\n"
     ]
    },
    {
     "name": "stdout",
     "output_type": "stream",
     "text": [
      "[6th program file.txt, line 2] zebra\n",
      "[6thfile.txt, line 2] zebra\n"
     ]
    }
   ],
   "source": [
    " \n",
    "\n",
    "\n",
    "import os\n",
    "import re\n",
    "print(\"Preethi Reddy, USN:1AY24AI085, Section O\")\n",
    "\n",
    "def search_txt_files(folder_path, user_pattern):\n",
    "    if not os.path.exists(folder_path):\n",
    "        print(\"invalid path\")\n",
    "    try:\n",
    "        regex = re.compile(user_pattern)\n",
    "    except re.error:\n",
    "        print(\"Invalid regular expression. Please try again.\")\n",
    "        return\n",
    "\n",
    "    \n",
    "    for filename in os.listdir(folder_path):\n",
    "        if filename.endswith('.txt'):\n",
    "            file_path = os.path.join(folder_path, filename)\n",
    "            try:\n",
    "                with open(file_path, 'r', encoding='utf-8') as file:\n",
    "                    lines = file.readlines()\n",
    "                    for line_number, line in enumerate(lines, start=1):\n",
    "                        if regex.search(line):\n",
    "                            print(f\"[{filename}, line {line_number}] {line.strip()}\")\n",
    "            except Exception as e:\n",
    "                print(f\"Could not read {filename}: {e}\")\n",
    "\n",
    "\n",
    "\n",
    "folder =r\"C:\\Users\\preethi reddy\\OneDrive\\Documents\\programfiles\"\n",
    "pattern = input(\"Enter the regular expression to search for: \")\n",
    "search_txt_files(folder, pattern)\n",
    "\n",
    "\n",
    "\n"
   ]
  },
  {
   "cell_type": "code",
   "execution_count": null,
   "id": "a469aea1-302a-4372-a7f0-e142b31b4fde",
   "metadata": {},
   "outputs": [],
   "source": []
  }
 ],
 "metadata": {
  "kernelspec": {
   "display_name": "Python 3 (ipykernel)",
   "language": "python",
   "name": "python3"
  },
  "language_info": {
   "codemirror_mode": {
    "name": "ipython",
    "version": 3
   },
   "file_extension": ".py",
   "mimetype": "text/x-python",
   "name": "python",
   "nbconvert_exporter": "python",
   "pygments_lexer": "ipython3",
   "version": "3.12.7"
  }
 },
 "nbformat": 4,
 "nbformat_minor": 5
}
