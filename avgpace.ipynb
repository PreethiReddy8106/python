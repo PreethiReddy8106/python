{
 "cells": [
  {
   "cell_type": "code",
   "execution_count": 1,
   "id": "273aac1c-5b00-4320-b1d0-43b8b4fa3136",
   "metadata": {},
   "outputs": [
    {
     "name": "stdout",
     "output_type": "stream",
     "text": [
      "preethi reddy,USN:1AY24AI085,section'O'\n",
      "Average pace per mile: 00:09:00\n"
     ]
    }
   ],
   "source": [
    "print(\"preethi reddy,USN:1AY24AI085,section'O'\")\n",
    "class Time:\n",
    "    def __init__(self, hours=0, minutes=0, seconds=0):\n",
    "        self.hours = hours\n",
    "        self.minutes = minutes\n",
    "        self.seconds = seconds\n",
    "\n",
    "    def __str__(self):\n",
    "        return f'{self.hours:02d}:{self.minutes:02d}:{self.seconds:02d}'\n",
    "\n",
    "def time_to_seconds(t):\n",
    "    return t.hours * 3600 + t.minutes * 60 + t.seconds\n",
    "\n",
    "def seconds_to_time(total_seconds):\n",
    "    hours = total_seconds // 3600\n",
    "    total_seconds %= 3600\n",
    "    minutes = total_seconds // 60\n",
    "    seconds = total_seconds % 60\n",
    "    return Time(hours, minutes, seconds)\n",
    "\n",
    "\n",
    "def mul_time(time, factor):\n",
    "    total_seconds = time_to_seconds(time)\n",
    "    product_seconds = int(total_seconds * factor)\n",
    "    return seconds_to_time(product_seconds)\n",
    "\n",
    "\n",
    "def pace_time(finish_time, distance):\n",
    "    return mul_time(finish_time, 1 / distance)\n",
    "\n",
    "\n",
    "finish = Time(1, 30, 0)\n",
    "distance = 10\n",
    "\n",
    "average_pace = pace_time(finish, distance)\n",
    "print(\"Average pace per mile:\", average_pace)\n"
   ]
  },
  {
   "cell_type": "code",
   "execution_count": null,
   "id": "b4016c3e-e5f9-4d70-9e78-c5c651a40fc1",
   "metadata": {},
   "outputs": [],
   "source": []
  }
 ],
 "metadata": {
  "kernelspec": {
   "display_name": "Python 3 (ipykernel)",
   "language": "python",
   "name": "python3"
  },
  "language_info": {
   "codemirror_mode": {
    "name": "ipython",
    "version": 3
   },
   "file_extension": ".py",
   "mimetype": "text/x-python",
   "name": "python",
   "nbconvert_exporter": "python",
   "pygments_lexer": "ipython3",
   "version": "3.12.7"
  }
 },
 "nbformat": 4,
 "nbformat_minor": 5
}
