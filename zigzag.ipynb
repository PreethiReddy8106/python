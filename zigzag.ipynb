{
 "cells": [
  {
   "cell_type": "code",
   "execution_count": 14,
   "id": "5ab7e103-51e1-4ef5-a831-bbdbd9f8dd97",
   "metadata": {},
   "outputs": [
    {
     "name": "stdin",
     "output_type": "stream",
     "text": [
      "enter no. 3\n",
      "enter no. of patterns to be printed 3\n"
     ]
    },
    {
     "name": "stdout",
     "output_type": "stream",
     "text": [
      "*\n",
      " *\n",
      "  *\n",
      "   *\n",
      "  *\n",
      " *\n",
      "*\n",
      " *\n",
      "  *\n",
      "   *\n",
      "  *\n",
      " *\n",
      "*\n",
      " *\n",
      "  *\n",
      "   *\n",
      "  *\n",
      " *\n"
     ]
    }
   ],
   "source": [
    "import time\n",
    "x=int(input(\"enter no. of steps for each pattern\"))\n",
    "y=int(input(\"enter no. of patterns to be printed\"))\n",
    "for i in range (y):\n",
    "    for i in range (x):\n",
    "        print(\" \"*i+\"*\")\n",
    "        time.sleep(0.5)\n",
    "        \n",
    "    for i in range ((x),0,-1):\n",
    "        print(\" \"*i+\"*\")\n",
    "        time.sleep(0.5)\n",
    "    "
   ]
  },
  {
   "cell_type": "code",
   "execution_count": null,
   "id": "6710f3b9-6ebe-498a-a443-fc44bb99db03",
   "metadata": {},
   "outputs": [],
   "source": []
  }
 ],
 "metadata": {
  "kernelspec": {
   "display_name": "Python 3 (ipykernel)",
   "language": "python",
   "name": "python3"
  },
  "language_info": {
   "codemirror_mode": {
    "name": "ipython",
    "version": 3
   },
   "file_extension": ".py",
   "mimetype": "text/x-python",
   "name": "python",
   "nbconvert_exporter": "python",
   "pygments_lexer": "ipython3",
   "version": "3.12.7"
  }
 },
 "nbformat": 4,
 "nbformat_minor": 5
}
