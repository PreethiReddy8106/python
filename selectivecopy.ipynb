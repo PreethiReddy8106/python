{
 "cells": [
  {
   "cell_type": "code",
   "execution_count": null,
   "id": "00a98ef3-fe82-4251-83ed-76c6791d8789",
   "metadata": {},
   "outputs": [
    {
     "name": "stdout",
     "output_type": "stream",
     "text": [
      "Preethi Reddy,USN: 1AY24AI085, Section O\n"
     ]
    },
    {
     "name": "stdin",
     "output_type": "stream",
     "text": [
      "Enter the path to the source folder:  C:\\Users\\preethi reddy\\OneDrive\\Documents\\programfiles\n",
      "Enter the path to the destination folder:  C:\\Users\\preethi reddy\\OneDrive\\Documents\\programfiles\n"
     ]
    }
   ],
   "source": [
    "\n",
    "# Selective Copy Program\n",
    "\n",
    "\n",
    "import os\n",
    "import shutil\n",
    "print(\"Preethi Reddy,USN: 1AY24AI085, Section O\")\n",
    "\n",
    "def selective_copy(source_folder, destination_folder, file_extension):\n",
    "\n",
    "    os.makedirs(destination_folder, exist_ok=True)\n",
    "\n",
    "    \n",
    "    for foldername, subfolders, filenames in os.walk(source_folder):\n",
    "        for filename in filenames:\n",
    "            if filename.lower().endswith(file_extension.lower()):\n",
    "                source_path = os.path.join(foldername, filename)\n",
    "                destination_path = os.path.join(destination_folder, filename)\n",
    "\n",
    "                print(f\"Copying {source_path} to {destination_path}\")\n",
    "                shutil.copy(source_path, destination_path)\n",
    "\n",
    "    print(\"Copy completed!\")\n",
    "\n",
    "\n",
    "src_folder = input(\"Enter the path to the source folder: \").strip()\n",
    "dest_folder = input(\"Enter the path to the destination folder: \")\n",
    "ext = input(\"Enter the file extension to search for (e.g., .jpg, .pdf): \")\n",
    "\n",
    "selective_copy(src_folder, dest_folder, ext)\n"
   ]
  },
  {
   "cell_type": "code",
   "execution_count": null,
   "id": "9c3c59e5-6b73-4fba-8def-07dab9d7d408",
   "metadata": {},
   "outputs": [],
   "source": []
  }
 ],
 "metadata": {
  "kernelspec": {
   "display_name": "Python 3 (ipykernel)",
   "language": "python",
   "name": "python3"
  },
  "language_info": {
   "codemirror_mode": {
    "name": "ipython",
    "version": 3
   },
   "file_extension": ".py",
   "mimetype": "text/x-python",
   "name": "python",
   "nbconvert_exporter": "python",
   "pygments_lexer": "ipython3",
   "version": "3.12.7"
  }
 },
 "nbformat": 4,
 "nbformat_minor": 5
}
